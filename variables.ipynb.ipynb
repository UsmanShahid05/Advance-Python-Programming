{
  "nbformat": 4,
  "nbformat_minor": 0,
  "metadata": {
    "colab": {
      "provenance": []
    },
    "kernelspec": {
      "name": "python3",
      "display_name": "Python 3"
    },
    "language_info": {
      "name": "python"
    }
  },
  "cells": [
    {
      "cell_type": "code",
      "execution_count": null,
      "metadata": {
        "id": "wzSNfhmpYzXq"
      },
      "outputs": [],
      "source": []
    },
    {
      "cell_type": "markdown",
      "source": [
        "# **Variable.**\n",
        "We are initiating our python by declaring variable. As we use basic variable is our previous code book. Now We will deep dig into variable.\n",
        "In this code notebook we'll learn about variables, their types, uses and restrictions.\n",
        "Let's get started :)"
      ],
      "metadata": {
        "id": "PCk8bZBJjvbV"
      }
    },
    {
      "cell_type": "markdown",
      "source": [
        "## **Defination**\n",
        "\n",
        "Variables as name indicates are the container that stores values temporirly. Imagine you have multiple containers at your store and these containers are use to put in and put outside the things. Same for variable. Varaible are used to store python values. These values can be digits, string values, or any other value. We wil see variable types in detail"
      ],
      "metadata": {
        "id": "m3bx2FYlkR6P"
      }
    },
    {
      "cell_type": "code",
      "source": [
        "# Declaring variable.\n",
        "first_variable= 4\n",
        "# Variable are declared to store values. There are some rules to declare variables, let's know them first."
      ],
      "metadata": {
        "id": "9Zw4bq2Ajw9c"
      },
      "execution_count": 1,
      "outputs": []
    },
    {
      "cell_type": "markdown",
      "source": [
        "Following are some ways to declare variables.\n",
        "\n",
        "\n",
        "*   Variable name can be started with letters or underscores '_' but it can't be initialized using any digital e.g \"2nd_value\", it's wrong. We can can use digit in variable name but not at the start of variable name.\n",
        "*   Variable name can include letters, underscores, and numbers\n",
        "\n",
        "\n",
        "*   Variable name cannot be spcial reserved word in python e.g if , else, sum, try etc.\n",
        "* Varabile name is also case sensitive, which means python will consider \"Variable\" different as compare to  \"variable\".\n",
        "\n",
        "\n",
        "\n"
      ],
      "metadata": {
        "id": "aTg8E_lDliJq"
      }
    },
    {
      "cell_type": "code",
      "source": [
        "# Let's try right variable name.\n",
        "\n",
        "my_value= 5\n",
        "_myvalue=13\n",
        "_MyValue=10\n",
        "My_Value=20\n",
        "# You can see the variable names are also case sensitive as mentioned above."
      ],
      "metadata": {
        "id": "xqQbabDAlduN"
      },
      "execution_count": 3,
      "outputs": []
    },
    {
      "cell_type": "code",
      "source": [
        "# Printing value.\n",
        "print(my_value)\n",
        "print(_myvalue)\n",
        "print(_MyValue)\n",
        "print(My_Value)"
      ],
      "metadata": {
        "colab": {
          "base_uri": "https://localhost:8080/"
        },
        "id": "U7FM2zeQm2E1",
        "outputId": "5a163163-442e-437c-dd80-4ba42471c014"
      },
      "execution_count": 4,
      "outputs": [
        {
          "output_type": "stream",
          "name": "stdout",
          "text": [
            "5\n",
            "13\n",
            "10\n",
            "20\n"
          ]
        }
      ]
    },
    {
      "cell_type": "code",
      "source": [
        "# Let's try some wrong variable name\n",
        "\n",
        "2nd_value= 5\n",
        "my value=3\n",
        "my-value=10\n",
        "# These are variable name are invalid and when we run the code, we'll get error message."
      ],
      "metadata": {
        "id": "RCV4LNjwnNwY"
      },
      "execution_count": null,
      "outputs": []
    },
    {
      "cell_type": "code",
      "source": [
        "# Printing value stored in variables.\n",
        "print(my_value)\n",
        "print(_myvalue)"
      ],
      "metadata": {
        "colab": {
          "base_uri": "https://localhost:8080/"
        },
        "id": "jtM2MMmQnfvR",
        "outputId": "80bf248c-1f1b-4b89-cbf4-f8c46b2f93ff"
      },
      "execution_count": 8,
      "outputs": [
        {
          "output_type": "stream",
          "name": "stdout",
          "text": [
            "5\n",
            "13\n"
          ]
        }
      ]
    },
    {
      "cell_type": "code",
      "source": [
        "# Let's discuss variable types and their advantages and usages.\n"
      ],
      "metadata": {
        "id": "0bIrNwStn5U9"
      },
      "execution_count": 9,
      "outputs": []
    },
    {
      "cell_type": "markdown",
      "source": [
        "## **Data Types In Python**\n",
        "\n",
        "As we now know variable are use to store values in python and based on value type, variable are assigned specific type. For instance if the value is integer then the variable type is 'int' and if the value is in decimal then type will be 'float'.\n",
        "\n",
        "Let's discuss data types in python based on their values.\n",
        "###1 => **Int Datatype**\n",
        "Int dataype include the integer values without any decimale e.g 4, -2. These values can be either positive or nagetive but will not contain any decimal value.\n",
        "\n",
        "### 2=> **Float Datatype**\n",
        "Float dataype include numbers with decimal values. All decimal values including postive or negative values includes in 'float dataype'.\n",
        "e.g 3.2, 0.0002, -3.024 etc.\n",
        "\n",
        "###3=> **String Datatype**\n",
        "This dataype includes all string, charactors (letters) values. The string can be a single charactor or multiple sentences. This dataype is always enclosed in quotes which can either be single or double. e.g 'A', \"This is string dataype\".\n",
        "We can also say the single value string is also \"Char\" datatype.\n",
        "###4=> **Complex Datatype**\n",
        "This datatype is type of numaric datatype but it include complex values as well. e.g ' 1+2i '"
      ],
      "metadata": {
        "id": "71_k1rZgoBGo"
      }
    },
    {
      "cell_type": "code",
      "source": [
        "#Let's use different dataype in different values.\n",
        "\n",
        "# Using 'int' dataype\n",
        "int_value=32\n",
        "print(f\"{int_value} is an int value\") # We can show variable values in print statement using \"f()\" 'formated method'.\n",
        "\n"
      ],
      "metadata": {
        "colab": {
          "base_uri": "https://localhost:8080/"
        },
        "id": "OP2EywC_oAa9",
        "outputId": "b9935276-4648-495e-e6e1-39d64fc10039"
      },
      "execution_count": 11,
      "outputs": [
        {
          "output_type": "stream",
          "name": "stdout",
          "text": [
            "32 is an int value\n"
          ]
        }
      ]
    },
    {
      "cell_type": "code",
      "source": [
        "# Creating float datatype.\n",
        "float_value=32.4\n",
        "print(f\"{float_value} is a float value\")"
      ],
      "metadata": {
        "colab": {
          "base_uri": "https://localhost:8080/"
        },
        "id": "ZdG12sLqrpM7",
        "outputId": "015df329-c957-4cba-b121-1d1fd6f49929"
      },
      "execution_count": 12,
      "outputs": [
        {
          "output_type": "stream",
          "name": "stdout",
          "text": [
            "32.4 is a float value\n"
          ]
        }
      ]
    },
    {
      "cell_type": "code",
      "source": [
        "# Creating string datatype.\n",
        "sting_value= \"This is second string value\"\n",
        "print(f\"{sting_value} is a string value\")"
      ],
      "metadata": {
        "colab": {
          "base_uri": "https://localhost:8080/"
        },
        "id": "KuTAdw4csRs6",
        "outputId": "95e0a598-b759-472d-8182-98673deb3eba"
      },
      "execution_count": 13,
      "outputs": [
        {
          "output_type": "stream",
          "name": "stdout",
          "text": [
            "This is second string value is a string value\n"
          ]
        }
      ]
    },
    {
      "cell_type": "code",
      "source": [
        "# Creating complex datatype\n",
        "complex_value= 1+2j\n",
        "print(f\"{complex_value} is a complex value\")"
      ],
      "metadata": {
        "colab": {
          "base_uri": "https://localhost:8080/"
        },
        "id": "8vuTwuVwsY8r",
        "outputId": "5dd351d6-354f-4c59-8db8-792ee977bc91"
      },
      "execution_count": 14,
      "outputs": [
        {
          "output_type": "stream",
          "name": "stdout",
          "text": [
            "(1+2j) is a complex value\n"
          ]
        }
      ]
    },
    {
      "cell_type": "markdown",
      "source": [
        "## ***Let's do some practice***"
      ],
      "metadata": {
        "id": "rShm7iI8s0u7"
      }
    },
    {
      "cell_type": "code",
      "source": [
        "# Task 1\n",
        "#Assign all values to different variable and print them\n",
        "\n",
        "int_variable=2\n",
        "float_variable=2.3\n",
        "string_variable=\"This is string value\"\n",
        "complex_variable=2+3j\n",
        "print(f\"{int_variable} is an int value\")\n",
        "print(f\"{float_variable} is a float value\")\n",
        "print(f\"{string_variable} is a string value\")\n",
        "print(f\"{complex_variable} is a complex value\")"
      ],
      "metadata": {
        "colab": {
          "base_uri": "https://localhost:8080/"
        },
        "id": "GeuVd_vHs9Df",
        "outputId": "03b54368-f34b-4e05-e72d-41cfa7175349"
      },
      "execution_count": 15,
      "outputs": [
        {
          "output_type": "stream",
          "name": "stdout",
          "text": [
            "2 is an int value\n",
            "2.3 is a float value\n",
            "This is string value is a string value\n",
            "(2+3j) is a complex value\n"
          ]
        }
      ]
    }
  ]
}