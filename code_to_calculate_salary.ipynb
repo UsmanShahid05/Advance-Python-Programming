{
  "nbformat": 4,
  "nbformat_minor": 0,
  "metadata": {
    "colab": {
      "provenance": []
    },
    "kernelspec": {
      "name": "python3",
      "display_name": "Python 3"
    },
    "language_info": {
      "name": "python"
    }
  },
  "cells": [
    {
      "cell_type": "markdown",
      "source": [
        "💼 Employee Salary Calculator in Python! 🧮\n",
        "I've just developed a handy Employee Salary Calculator using Python! This script helps users compute their monthly salary based on their hourly rate, the number of hours worked, and the total days in the month. Here’s a quick rundown of how it works:\n",
        "\n",
        "🔍 Features:\n",
        "User Input: The program prompts users to enter their name, hourly rate, hours worked, and the number of working days in the month.\n",
        "Input Validation: It robustly handles invalid inputs, ensuring that only valid numbers are accepted for calculations.\n",
        "Salary Calculation: The monthly salary is calculated using the formula:\n",
        "Total Salary\n",
        "=\n",
        "Hourly Rate\n",
        "×\n",
        "Worked Hours\n",
        "×\n",
        "Days in Month\n",
        "Total Salary=Hourly Rate×Worked Hours×Days in Month\n",
        "Currency Conversion: The script converts the salary amount to Pakistani Rupees (PKR) at a conversion rate of 280 PKR per USD.\n",
        "Detailed Salary Report: All the relevant information is stored in a structured dictionary and printed out for easy reference.\n",
        "Retry Option: Users can choose to calculate the salary for another employee without restarting the program."
      ],
      "metadata": {
        "id": "a4Y0f8SIzT0c"
      }
    },
    {
      "cell_type": "code",
      "execution_count": null,
      "metadata": {
        "id": "d10_M8CpxPWN"
      },
      "outputs": [],
      "source": [
        "user_input=True\n",
        "while user_input:\n",
        "  calculation=True\n",
        "  while calculation:\n",
        "    try :\n",
        "      # Calculator to compute salary of employe.\n",
        "      employee_name=input(\"Please enter your name : \")\n",
        "      # Asking employee for hourly rate and worked hours and total days in month. Then storing salary value to the respective employee by creating dictionary\n",
        "      hourly_rate=int(input(\"Enter your hourly rate : \"))\n",
        "      worked_hours=int(input(\"Enter your worked hours : \"))\n",
        "      days_in_month=int(input(\"Enter your days in month : \"))\n",
        "      calculation=False\n",
        "    except ValueError:\n",
        "      print(\"Invalid input. Please enter a valid number.\")\n",
        "  # Story values in dictionary.\n",
        "  employee_salary=hourly_rate*worked_hours*days_in_month\n",
        "  print(f\"{employee_name} your salary is {employee_salary}\")\n",
        "  amount_in_pkr=employee_salary*280\n",
        "  print(f\"{employee_name} your salary is {amount_in_pkr}\")\n",
        "  # Creating dictionary\n",
        "  employee_salary_report={\n",
        "      \"Name\":employee_name,\n",
        "      \"Hourly Rate\":hourly_rate,\n",
        "      \"Worked Hours\":worked_hours,\n",
        "      \"Days in month\":days_in_month,\n",
        "      \"Total Salary\":employee_salary,\n",
        "      \"Total Salary in Pkr\":amount_in_pkr\n",
        "  }\n",
        "  print(\"Following is your salary report.\")\n",
        "  for key, value in employee_salary_report.items():\n",
        "    print(f\"{key} : {value}\")\n",
        "\n",
        "  while True:\n",
        "    print(\"Do you want to retry it?  Yes or No\")\n",
        "    user_text=input()\n",
        "    if user_text.lower() == \"yes\":\n",
        "      user_input=True\n",
        "      break\n",
        "    elif user_text.lower() == \"no\":\n",
        "      user_input=False\n",
        "      break\n",
        "\n"
      ]
    }
  ]
}